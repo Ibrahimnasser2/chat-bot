{
 "cells": [
  {
   "cell_type": "markdown",
   "metadata": {},
   "source": [
    "### Import libraries"
   ]
  },
  {
   "cell_type": "code",
   "execution_count": 1,
   "metadata": {
    "_cell_guid": "b1076dfc-b9ad-4769-8c92-a6c4dae69d19",
    "_uuid": "8f2839f25d086af736a60e9eeb907d3b93b6e0e5"
   },
   "outputs": [
    {
     "name": "stderr",
     "output_type": "stream",
     "text": [
      "C:\\Users\\camper-man\\Anaconda3\\envs\\hemaaaaaaaaaaaaaa\\lib\\site-packages\\tqdm\\auto.py:21: TqdmWarning: IProgress not found. Please update jupyter and ipywidgets. See https://ipywidgets.readthedocs.io/en/stable/user_install.html\n",
      "  from .autonotebook import tqdm as notebook_tqdm\n"
     ]
    }
   ],
   "source": [
    "import numpy as np\n",
    "import json\n",
    "import re\n",
    "import tensorflow as tf\n",
    "import random\n",
    "import spacy\n",
    "nlp = spacy.load('en_core_web_sm')"
   ]
  },
  {
   "cell_type": "markdown",
   "metadata": {},
   "source": [
    "### Import json file"
   ]
  },
  {
   "cell_type": "code",
   "execution_count": 2,
   "metadata": {
    "_cell_guid": "79c7e3d0-c299-4dcb-8224-4455121ee9b0",
    "_uuid": "d629ff2d2480ee46fbb7e2d37f6b5fab8052498a"
   },
   "outputs": [],
   "source": [
    "with open('Intent.json') as f:\n",
    "    intents = json.load(f)"
   ]
  },
  {
   "cell_type": "markdown",
   "metadata": {},
   "source": [
    "### Preprocessing data\n",
    "In this part we gonna clean data, split them into inputs and targets tensor, build a tokenizer dictionary and turn sentences into sequences.\n",
    "The target tensor has a bunch of list with a length of unique title list."
   ]
  },
  {
   "cell_type": "code",
   "execution_count": 3,
   "metadata": {},
   "outputs": [],
   "source": [
    "def preprocessing(line):\n",
    "    line = re.sub(r'[^a-zA-z.?!\\']', ' ', line)\n",
    "    line = re.sub(r'[ ]+', ' ', line)\n",
    "    return line"
   ]
  },
  {
   "cell_type": "code",
   "execution_count": 4,
   "metadata": {},
   "outputs": [],
   "source": [
    "# get text and intent title from json data\n",
    "inputs, targets = [], []\n",
    "classes = []\n",
    "intent_doc = {}\n",
    "\n",
    "for intent in intents['intents']:\n",
    "    if intent['intent'] not in classes:\n",
    "        classes.append(intent['intent'])\n",
    "    if intent['intent'] not in intent_doc:\n",
    "        intent_doc[intent['intent']] = []\n",
    "        \n",
    "    for text in intent['text']:\n",
    "        inputs.append(preprocessing(text))\n",
    "        targets.append(intent['intent'])\n",
    "        \n",
    "    for response in intent['responses']:\n",
    "        intent_doc[intent['intent']].append(response)"
   ]
  },
  {
   "cell_type": "code",
   "execution_count": 5,
   "metadata": {},
   "outputs": [],
   "source": [
    "def tokenize_data(input_list):\n",
    "    tokenizer = tf.keras.preprocessing.text.Tokenizer(filters='', oov_token='<unk>')\n",
    "    \n",
    "    tokenizer.fit_on_texts(input_list)\n",
    "    \n",
    "    input_seq = tokenizer.texts_to_sequences(input_list)\n",
    "\n",
    "    input_seq = tf.keras.preprocessing.sequence.pad_sequences(input_seq, padding='pre')\n",
    "    \n",
    "    return tokenizer, input_seq\n",
    "\n",
    "# preprocess input data\n",
    "tokenizer, input_tensor = tokenize_data(inputs)"
   ]
  },
  {
   "cell_type": "code",
   "execution_count": 6,
   "metadata": {},
   "outputs": [],
   "source": [
    "def create_categorical_target(targets):\n",
    "    word={}\n",
    "    categorical_target=[]\n",
    "    counter=0\n",
    "    for trg in targets:\n",
    "        if trg not in word:\n",
    "            word[trg]=counter\n",
    "            counter+=1\n",
    "        categorical_target.append(word[trg])\n",
    "    \n",
    "    categorical_tensor = tf.keras.utils.to_categorical(categorical_target, num_classes=len(word), dtype='int32')\n",
    "    return categorical_tensor, dict((v,k) for k, v in word.items())\n",
    "\n",
    "# preprocess output data\n",
    "target_tensor, trg_index_word = create_categorical_target(targets)"
   ]
  },
  {
   "cell_type": "code",
   "execution_count": 7,
   "metadata": {},
   "outputs": [
    {
     "name": "stdout",
     "output_type": "stream",
     "text": [
      "input shape: (143, 9) and output shape: (143, 22)\n"
     ]
    }
   ],
   "source": [
    "print('input shape: {} and output shape: {}'.format(input_tensor.shape, target_tensor.shape))"
   ]
  },
  {
   "cell_type": "markdown",
   "metadata": {},
   "source": [
    "### Build the model"
   ]
  },
  {
   "cell_type": "code",
   "execution_count": 8,
   "metadata": {},
   "outputs": [],
   "source": [
    "# hyperparameters\n",
    "epochs=50\n",
    "vocab_size=len(tokenizer.word_index) + 1\n",
    "embed_dim=512\n",
    "units=128\n",
    "target_length=target_tensor.shape[1]"
   ]
  },
  {
   "cell_type": "code",
   "execution_count": 9,
   "metadata": {},
   "outputs": [
    {
     "name": "stderr",
     "output_type": "stream",
     "text": [
      "WARNING:absl:`lr` is deprecated, please use `learning_rate` instead, or use the legacy optimizer, e.g.,tf.keras.optimizers.legacy.Adam.\n"
     ]
    },
    {
     "name": "stdout",
     "output_type": "stream",
     "text": [
      "Model: \"sequential\"\n",
      "_________________________________________________________________\n",
      " Layer (type)                Output Shape              Param #   \n",
      "=================================================================\n",
      " embedding (Embedding)       (None, None, 512)         66048     \n",
      "                                                                 \n",
      " bidirectional (Bidirectiona  (None, 256)              656384    \n",
      " l)                                                              \n",
      "                                                                 \n",
      " dense (Dense)               (None, 128)               32896     \n",
      "                                                                 \n",
      " dropout (Dropout)           (None, 128)               0         \n",
      "                                                                 \n",
      " dense_1 (Dense)             (None, 22)                2838      \n",
      "                                                                 \n",
      "=================================================================\n",
      "Total params: 758,166\n",
      "Trainable params: 758,166\n",
      "Non-trainable params: 0\n",
      "_________________________________________________________________\n"
     ]
    }
   ],
   "source": [
    "# build RNN Model with tensorflow\n",
    "model = tf.keras.models.Sequential([\n",
    "    tf.keras.layers.Embedding(vocab_size, embed_dim),\n",
    "    tf.keras.layers.Bidirectional(tf.keras.layers.LSTM(units, dropout=0.2)),\n",
    "    tf.keras.layers.Dense(units, activation='relu'),\n",
    "    tf.keras.layers.Dropout(0.5),\n",
    "    tf.keras.layers.Dense(target_length, activation='softmax')\n",
    "])\n",
    "\n",
    "optimizer = tf.keras.optimizers.Adam(lr=1e-2)\n",
    "model.compile(optimizer=optimizer, loss='categorical_crossentropy', metrics=['accuracy'])\n",
    "model.summary()"
   ]
  },
  {
   "cell_type": "code",
   "execution_count": 10,
   "metadata": {},
   "outputs": [
    {
     "name": "stdout",
     "output_type": "stream",
     "text": [
      "Epoch 1/50\n",
      "5/5 [==============================] - 3s 29ms/step - loss: 3.0902 - accuracy: 0.0490\n",
      "Epoch 2/50\n",
      "5/5 [==============================] - 0s 29ms/step - loss: 3.0526 - accuracy: 0.0909\n",
      "Epoch 3/50\n",
      "5/5 [==============================] - 0s 29ms/step - loss: 3.0138 - accuracy: 0.1329\n",
      "Epoch 4/50\n",
      "5/5 [==============================] - 0s 29ms/step - loss: 2.9502 - accuracy: 0.2028\n",
      "Epoch 5/50\n",
      "5/5 [==============================] - 0s 29ms/step - loss: 2.8550 - accuracy: 0.2727\n",
      "Epoch 6/50\n",
      "5/5 [==============================] - 0s 28ms/step - loss: 2.7227 - accuracy: 0.3147\n",
      "Epoch 7/50\n",
      "5/5 [==============================] - 0s 28ms/step - loss: 2.5323 - accuracy: 0.3357\n",
      "Epoch 8/50\n",
      "5/5 [==============================] - 0s 30ms/step - loss: 2.3197 - accuracy: 0.3217\n",
      "Epoch 9/50\n",
      "5/5 [==============================] - 0s 29ms/step - loss: 2.0680 - accuracy: 0.4476\n",
      "Epoch 10/50\n",
      "5/5 [==============================] - 0s 30ms/step - loss: 1.7919 - accuracy: 0.4895\n",
      "Epoch 11/50\n",
      "5/5 [==============================] - 0s 29ms/step - loss: 1.6476 - accuracy: 0.5245\n",
      "Epoch 12/50\n",
      "5/5 [==============================] - 0s 30ms/step - loss: 1.4223 - accuracy: 0.5734\n",
      "Epoch 13/50\n",
      "5/5 [==============================] - 0s 30ms/step - loss: 1.2015 - accuracy: 0.6294\n",
      "Epoch 14/50\n",
      "5/5 [==============================] - 0s 30ms/step - loss: 1.0766 - accuracy: 0.7133\n",
      "Epoch 15/50\n",
      "5/5 [==============================] - 0s 30ms/step - loss: 0.9173 - accuracy: 0.7343\n",
      "Epoch 16/50\n",
      "5/5 [==============================] - 0s 30ms/step - loss: 0.7665 - accuracy: 0.7832\n",
      "Epoch 17/50\n",
      "5/5 [==============================] - 0s 30ms/step - loss: 0.6902 - accuracy: 0.7692\n",
      "Epoch 18/50\n",
      "5/5 [==============================] - 0s 29ms/step - loss: 0.4931 - accuracy: 0.8671\n",
      "Epoch 19/50\n",
      "5/5 [==============================] - 0s 29ms/step - loss: 0.4159 - accuracy: 0.8671\n",
      "Epoch 20/50\n",
      "5/5 [==============================] - 0s 30ms/step - loss: 0.3543 - accuracy: 0.9091\n",
      "Epoch 21/50\n",
      "5/5 [==============================] - 0s 30ms/step - loss: 0.2536 - accuracy: 0.9441\n",
      "Epoch 22/50\n",
      "5/5 [==============================] - 0s 30ms/step - loss: 0.2657 - accuracy: 0.9161\n",
      "Epoch 23/50\n",
      "5/5 [==============================] - 0s 30ms/step - loss: 0.2006 - accuracy: 0.9301\n",
      "Epoch 24/50\n",
      "5/5 [==============================] - 0s 30ms/step - loss: 0.2015 - accuracy: 0.9510\n",
      "Epoch 25/50\n",
      "5/5 [==============================] - 0s 30ms/step - loss: 0.2052 - accuracy: 0.9231\n",
      "Epoch 26/50\n",
      "5/5 [==============================] - 0s 30ms/step - loss: 0.1129 - accuracy: 0.9860\n",
      "Epoch 27/50\n",
      "5/5 [==============================] - 0s 30ms/step - loss: 0.0862 - accuracy: 1.0000\n",
      "Epoch 28/50\n",
      "5/5 [==============================] - 0s 31ms/step - loss: 0.0994 - accuracy: 0.9790\n",
      "Epoch 29/50\n",
      "5/5 [==============================] - 0s 30ms/step - loss: 0.0722 - accuracy: 0.9930\n",
      "Epoch 30/50\n",
      "5/5 [==============================] - 0s 30ms/step - loss: 0.0876 - accuracy: 0.9790\n",
      "Epoch 31/50\n",
      "5/5 [==============================] - 0s 30ms/step - loss: 0.0676 - accuracy: 1.0000\n",
      "Epoch 32/50\n",
      "5/5 [==============================] - 0s 30ms/step - loss: 0.0597 - accuracy: 0.9860\n",
      "Epoch 33/50\n",
      "5/5 [==============================] - 0s 30ms/step - loss: 0.0466 - accuracy: 0.9930\n",
      "Epoch 34/50\n",
      "5/5 [==============================] - 0s 30ms/step - loss: 0.0354 - accuracy: 1.0000\n",
      "Epoch 35/50\n",
      "5/5 [==============================] - 0s 31ms/step - loss: 0.0532 - accuracy: 0.9930\n",
      "Epoch 36/50\n",
      "5/5 [==============================] - 0s 30ms/step - loss: 0.0321 - accuracy: 1.0000\n",
      "Epoch 37/50\n",
      "5/5 [==============================] - 0s 30ms/step - loss: 0.0447 - accuracy: 0.9930\n",
      "Epoch 38/50\n",
      "5/5 [==============================] - 0s 30ms/step - loss: 0.0314 - accuracy: 1.0000\n",
      "Epoch 39/50\n",
      "5/5 [==============================] - 0s 30ms/step - loss: 0.0283 - accuracy: 0.9930\n",
      "Epoch 40/50\n",
      "5/5 [==============================] - 0s 31ms/step - loss: 0.0216 - accuracy: 1.0000\n",
      "Epoch 41/50\n",
      "5/5 [==============================] - 0s 31ms/step - loss: 0.0303 - accuracy: 1.0000\n",
      "Epoch 42/50\n",
      "5/5 [==============================] - 0s 30ms/step - loss: 0.0294 - accuracy: 1.0000\n",
      "Epoch 43/50\n",
      "5/5 [==============================] - 0s 31ms/step - loss: 0.0184 - accuracy: 1.0000\n",
      "Epoch 44/50\n",
      "5/5 [==============================] - 0s 31ms/step - loss: 0.0227 - accuracy: 1.0000\n",
      "Epoch 45/50\n",
      "5/5 [==============================] - 0s 32ms/step - loss: 0.0195 - accuracy: 1.0000\n",
      "Epoch 46/50\n",
      "5/5 [==============================] - 0s 32ms/step - loss: 0.0177 - accuracy: 1.0000\n",
      "Epoch 47/50\n",
      "5/5 [==============================] - 0s 32ms/step - loss: 0.0118 - accuracy: 1.0000\n",
      "Epoch 48/50\n",
      "5/5 [==============================] - 0s 33ms/step - loss: 0.0184 - accuracy: 0.9930\n",
      "Epoch 49/50\n",
      "5/5 [==============================] - 0s 32ms/step - loss: 0.0153 - accuracy: 1.0000\n",
      "Epoch 50/50\n",
      "5/5 [==============================] - 0s 32ms/step - loss: 0.0099 - accuracy: 1.0000\n"
     ]
    },
    {
     "data": {
      "text/plain": [
       "<keras.callbacks.History at 0x1bb5395b100>"
      ]
     },
     "execution_count": 10,
     "metadata": {},
     "output_type": "execute_result"
    }
   ],
   "source": [
    "early_stop = tf.keras.callbacks.EarlyStopping(monitor='loss', patience=4)\n",
    "\n",
    "# train the model\n",
    "model.fit(input_tensor, target_tensor, epochs=epochs, callbacks=[early_stop])"
   ]
  },
  {
   "cell_type": "code",
   "execution_count": 11,
   "metadata": {},
   "outputs": [
    {
     "name": "stdout",
     "output_type": "stream",
     "text": [
      "Note: Enter 'quit' to break the loop.\n",
      "You: how are you?\n",
      "Bot: That is an difficult question, can you prove that you are? -- TYPE: SelfAware\n",
      "\n",
      "You: hi\n",
      "Bot: Hi human  -- TYPE: Greeting\n",
      "\n",
      "You: how are you\n",
      "Bot: That is an difficult question, can you prove that you are? -- TYPE: SelfAware\n",
      "\n",
      "You: ?\n",
      "Bot: Mr X said he recently read an interview with a man who had several computer chips implanted into him. -- TYPE: Gossip\n",
      "\n",
      "You: ??\n",
      "Bot: Jordan said he notice that lots of other people are talking to me how many. -- TYPE: Gossip\n",
      "\n",
      "You: quit\n"
     ]
    }
   ],
   "source": [
    "def response(sentence):\n",
    "    sent_seq = []\n",
    "    doc = nlp(repr(sentence))\n",
    "    \n",
    "    # split the input sentences into words\n",
    "    for token in doc:\n",
    "        if token.text in tokenizer.word_index:\n",
    "            sent_seq.append(tokenizer.word_index[token.text])\n",
    "\n",
    "        # handle the unknown words error\n",
    "        else:\n",
    "            sent_seq.append(tokenizer.word_index['<unk>'])\n",
    "\n",
    "    sent_seq = tf.expand_dims(sent_seq, 0)\n",
    "    # predict the category of input sentences\n",
    "    pred = model(sent_seq)\n",
    "\n",
    "    pred_class = np.argmax(pred.numpy(), axis=1)\n",
    "    \n",
    "    # choice a random response for predicted sentence\n",
    "    return random.choice(intent_doc[trg_index_word[pred_class[0]]]), trg_index_word[pred_class[0]]\n",
    "\n",
    "# chat with bot\n",
    "print(\"Note: Enter 'quit' to break the loop.\")\n",
    "while True:\n",
    "    input_ = input('You: ')\n",
    "    if input_.lower() == 'quit':\n",
    "        break\n",
    "    res, typ = response(input_)\n",
    "    print('Bot: {} -- TYPE: {}'.format(res, typ))\n",
    "    print()"
   ]
  },
  {
   "cell_type": "code",
   "execution_count": null,
   "metadata": {},
   "outputs": [],
   "source": []
  }
 ],
 "metadata": {
  "kernelspec": {
   "display_name": "Python 3 (ipykernel)",
   "language": "python",
   "name": "python3"
  },
  "language_info": {
   "codemirror_mode": {
    "name": "ipython",
    "version": 3
   },
   "file_extension": ".py",
   "mimetype": "text/x-python",
   "name": "python",
   "nbconvert_exporter": "python",
   "pygments_lexer": "ipython3",
   "version": "3.8.16"
  }
 },
 "nbformat": 4,
 "nbformat_minor": 4
}
