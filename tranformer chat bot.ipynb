{
 "cells": [
  {
   "cell_type": "code",
   "execution_count": 1,
   "id": "4d3bbe74",
   "metadata": {},
   "outputs": [],
   "source": [
    "import pandas as pd\n",
    "import numpy as np\n",
    "import re\n",
    "import nltk\n",
    "from nltk.corpus import stopwords\n",
    "from numpy import array"
   ]
  },
  {
   "cell_type": "code",
   "execution_count": 2,
   "id": "569a9731",
   "metadata": {},
   "outputs": [
    {
     "data": {
      "text/html": [
       "<div>\n",
       "<style scoped>\n",
       "    .dataframe tbody tr th:only-of-type {\n",
       "        vertical-align: middle;\n",
       "    }\n",
       "\n",
       "    .dataframe tbody tr th {\n",
       "        vertical-align: top;\n",
       "    }\n",
       "\n",
       "    .dataframe thead th {\n",
       "        text-align: right;\n",
       "    }\n",
       "</style>\n",
       "<table border=\"1\" class=\"dataframe\">\n",
       "  <thead>\n",
       "    <tr style=\"text-align: right;\">\n",
       "      <th></th>\n",
       "      <th>question</th>\n",
       "      <th>answer</th>\n",
       "    </tr>\n",
       "  </thead>\n",
       "  <tbody>\n",
       "    <tr>\n",
       "      <th>0</th>\n",
       "      <td>crushes ice?</td>\n",
       "      <td>yes :) you can get nice slushies for sure ;)</td>\n",
       "    </tr>\n",
       "    <tr>\n",
       "      <th>1</th>\n",
       "      <td>Does the fan have feet? In other words how doe...</td>\n",
       "      <td>The base is broad enough that it can stay upri...</td>\n",
       "    </tr>\n",
       "    <tr>\n",
       "      <th>2</th>\n",
       "      <td>Can you use cold water to make the espresso???...</td>\n",
       "      <td>Yes. It won't be as robust or bitey as when us...</td>\n",
       "    </tr>\n",
       "    <tr>\n",
       "      <th>3</th>\n",
       "      <td>Does this work as an air purifier as well? We ...</td>\n",
       "      <td>Let me say this: When I use my rainbow to vacu...</td>\n",
       "    </tr>\n",
       "    <tr>\n",
       "      <th>4</th>\n",
       "      <td>What hand held air deflation pump should I buy...</td>\n",
       "      <td>I have a Quick Fill Electric Pump that I broug...</td>\n",
       "    </tr>\n",
       "    <tr>\n",
       "      <th>...</th>\n",
       "      <td>...</td>\n",
       "      <td>...</td>\n",
       "    </tr>\n",
       "    <tr>\n",
       "      <th>206502</th>\n",
       "      <td>Anyone else get one where the lid over the sha...</td>\n",
       "      <td>I have two and both are that way.</td>\n",
       "    </tr>\n",
       "    <tr>\n",
       "      <th>206503</th>\n",
       "      <td>Can this be used as a watermaker for a saltwat...</td>\n",
       "      <td>No, salt is dissolved in the water, you have t...</td>\n",
       "    </tr>\n",
       "    <tr>\n",
       "      <th>206504</th>\n",
       "      <td>What are the overall dimensions, total hieght ...</td>\n",
       "      <td>17 inches high 38 inches long and 18 1/2 inche...</td>\n",
       "    </tr>\n",
       "    <tr>\n",
       "      <th>206505</th>\n",
       "      <td>can the latter be put on the other side</td>\n",
       "      <td>I don't think so.</td>\n",
       "    </tr>\n",
       "    <tr>\n",
       "      <th>206506</th>\n",
       "      <td>Can you grate chocolate with this tool?</td>\n",
       "      <td>Yes. You can grate calluses, chocolates, chees...</td>\n",
       "    </tr>\n",
       "  </tbody>\n",
       "</table>\n",
       "<p>206507 rows × 2 columns</p>\n",
       "</div>"
      ],
      "text/plain": [
       "                                                 question  \\\n",
       "0                                            crushes ice?   \n",
       "1       Does the fan have feet? In other words how doe...   \n",
       "2       Can you use cold water to make the espresso???...   \n",
       "3       Does this work as an air purifier as well? We ...   \n",
       "4       What hand held air deflation pump should I buy...   \n",
       "...                                                   ...   \n",
       "206502  Anyone else get one where the lid over the sha...   \n",
       "206503  Can this be used as a watermaker for a saltwat...   \n",
       "206504  What are the overall dimensions, total hieght ...   \n",
       "206505            can the latter be put on the other side   \n",
       "206506            Can you grate chocolate with this tool?   \n",
       "\n",
       "                                                   answer  \n",
       "0            yes :) you can get nice slushies for sure ;)  \n",
       "1       The base is broad enough that it can stay upri...  \n",
       "2       Yes. It won't be as robust or bitey as when us...  \n",
       "3       Let me say this: When I use my rainbow to vacu...  \n",
       "4       I have a Quick Fill Electric Pump that I broug...  \n",
       "...                                                   ...  \n",
       "206502                  I have two and both are that way.  \n",
       "206503  No, salt is dissolved in the water, you have t...  \n",
       "206504  17 inches high 38 inches long and 18 1/2 inche...  \n",
       "206505                                  I don't think so.  \n",
       "206506  Yes. You can grate calluses, chocolates, chees...  \n",
       "\n",
       "[206507 rows x 2 columns]"
      ]
     },
     "execution_count": 2,
     "metadata": {},
     "output_type": "execute_result"
    }
   ],
   "source": [
    "data = pd.read_csv(\"new.csv\")\n",
    "data=data[[\"question\",\"answer\"]]\n",
    "data"
   ]
  },
  {
   "cell_type": "code",
   "execution_count": 3,
   "id": "6e78913d",
   "metadata": {},
   "outputs": [],
   "source": [
    "from bs4 import BeautifulSoup\n",
    "import string \n",
    "from nltk.stem.snowball import SnowballStemmer "
   ]
  },
  {
   "cell_type": "code",
   "execution_count": 4,
   "id": "dbfd4c2b",
   "metadata": {},
   "outputs": [
    {
     "name": "stderr",
     "output_type": "stream",
     "text": [
      "C:\\Users\\camper-man\\Anaconda3\\envs\\hemaaaaaaaaaaaaaa\\lib\\site-packages\\bs4\\__init__.py:435: MarkupResemblesLocatorWarning: The input looks more like a filename than markup. You may want to open this file and pass the filehandle into Beautiful Soup.\n",
      "  warnings.warn(\n"
     ]
    }
   ],
   "source": [
    "def lower_text(text):\n",
    "    text = \" \".join(i.lower() for i in text.split())\n",
    "    return text\n",
    "\n",
    "\n",
    "def stemmer(text):\n",
    "    ss=SnowballStemmer(language='english')\n",
    "    text= ' '.join([ss.stem(word) for word in text.split()])\n",
    "    return text\n",
    "\n",
    "def remove_noise(text):\n",
    "    soup = BeautifulSoup(text, \"html.parser\")\n",
    "    text = soup.get_text()\n",
    "    text = re.sub(\"\\[[^]]*\\]\", \"\", text)\n",
    "    return text\n",
    "\n",
    "\n",
    "def remove_punc(text):\n",
    "    tokens = text.split()\n",
    "    re_punc = re.compile(\"[%s]\"%re.escape(string.punctuation))\n",
    "    tokens = [re_punc.sub(\"\", w) for w in tokens]\n",
    "    tokens = [word for word in tokens if word.isalpha()]\n",
    "    text = \" \".join(tokens)\n",
    "    \n",
    "    return text\n",
    "\n",
    "def remove_stop(text):\n",
    "    tokens = text.split()\n",
    "    all_stopwords = stopwords.words('english')\n",
    "    tokens_without_sw = [word for word in tokens if not word in all_stopwords]\n",
    "    text = \" \".join(tokens_without_sw)\n",
    "    return text\n",
    "\n",
    "def preprocess_data(text):\n",
    "    text = lower_text(text)\n",
    "    text = remove_noise(text)\n",
    "    text = remove_stop(text)\n",
    "    text = remove_punc(text)\n",
    "    text = stemmer(text)\n",
    "    \n",
    "    return text\n",
    "\n",
    "data[\"question\"] = data[\"question\"].apply(preprocess_data)"
   ]
  },
  {
   "cell_type": "code",
   "execution_count": 5,
   "id": "bf0861ed",
   "metadata": {},
   "outputs": [
    {
     "data": {
      "text/plain": [
       "0                                                 crush ice\n",
       "1                 fan feet word stay upright obvious pictur\n",
       "2                        use cold water make espresso thank\n",
       "3         work air purifi well recent shown rainbow work...\n",
       "4                         hand held air deflat pump buy bag\n",
       "                                ...                        \n",
       "206502    anyon els get one lid shaker screen snap secur...\n",
       "206503                            use watermak saltwat boat\n",
       "206504               overal dimens total hieght width depth\n",
       "206505                                      latter put side\n",
       "206506                                    grate chocol tool\n",
       "Name: question, Length: 206507, dtype: object"
      ]
     },
     "execution_count": 5,
     "metadata": {},
     "output_type": "execute_result"
    }
   ],
   "source": [
    "data[\"question\"]"
   ]
  },
  {
   "cell_type": "code",
   "execution_count": 6,
   "id": "d57e8fd0",
   "metadata": {},
   "outputs": [
    {
     "name": "stderr",
     "output_type": "stream",
     "text": [
      "C:\\Users\\camper-man\\Anaconda3\\envs\\hemaaaaaaaaaaaaaa\\lib\\site-packages\\tqdm\\auto.py:21: TqdmWarning: IProgress not found. Please update jupyter and ipywidgets. See https://ipywidgets.readthedocs.io/en/stable/user_install.html\n",
      "  from .autonotebook import tqdm as notebook_tqdm\n"
     ]
    }
   ],
   "source": [
    "from sentence_transformers import SentenceTransformer\n",
    "model = SentenceTransformer('all-mpnet-base-v2')\n",
    "\n"
   ]
  },
  {
   "cell_type": "code",
   "execution_count": 7,
   "id": "de016cfe",
   "metadata": {},
   "outputs": [],
   "source": [
    "FAQs_embeddings = model.encode(data[\"question\"])"
   ]
  },
  {
   "cell_type": "code",
   "execution_count": 8,
   "id": "67f28ce5",
   "metadata": {},
   "outputs": [],
   "source": [
    "FAQs_test = pd.Series(['is stainless a good choice for me ?',\n",
    "                       \"does the  Microwave Steamer have a recipe guide and an instruction booklet?\",\n",
    "                       \"We're concerned about the fabric not 'Breathing' in borderline weather -  Any comments?\",\n",
    "                       \"Is the trundle adjustable and sturdy in a lower height in addition to using it as a king?\",\n",
    "                       '''Is the attachment with the blade made of metal or not?''',\n",
    "                       \"Does this book have branding on the outside of it?\",\n",
    "                       \"Is there a lid on it? it's not mentioned in product details\",\n",
    "                       \"I want to know if the pockets have zippers or drops?\",\n",
    "                       \"Can you drink  from thermos or must you pour it into lid to drink?\",\n",
    "                       \"can i replace my product with another one \"\n",
    "                      ]).apply(preprocess_data)"
   ]
  },
  {
   "cell_type": "code",
   "execution_count": 9,
   "id": "2889ae64",
   "metadata": {},
   "outputs": [],
   "source": [
    "FAQs_test_embeddings = model.encode(FAQs_test)"
   ]
  },
  {
   "cell_type": "code",
   "execution_count": 10,
   "id": "e594d432",
   "metadata": {},
   "outputs": [],
   "source": [
    "from sklearn.metrics.pairwise import cosine_similarity\n",
    "similarity_score = cosine_similarity(FAQs_test_embeddings, FAQs_embeddings)\n",
    "max=similarity_score.max(axis=1)"
   ]
  },
  {
   "cell_type": "code",
   "execution_count": 14,
   "id": "0a72b855",
   "metadata": {},
   "outputs": [
    {
     "data": {
      "text/plain": [
       "0.8824389457702637"
      ]
     },
     "execution_count": 14,
     "metadata": {},
     "output_type": "execute_result"
    }
   ],
   "source": [
    "Accuracy=max.sum()/len(max)\n",
    "Accuracy"
   ]
  },
  {
   "cell_type": "code",
   "execution_count": 13,
   "id": "32a44440",
   "metadata": {},
   "outputs": [],
   "source": [
    "index = similarity_score.argmax(axis=1)"
   ]
  },
  {
   "cell_type": "code",
   "execution_count": 88,
   "id": "6be8bce0",
   "metadata": {},
   "outputs": [],
   "source": [
    "df2 = []\n",
    "for i in index:\n",
    "    df2.append(data.answer[i])\n",
    "\n"
   ]
  },
  {
   "cell_type": "code",
   "execution_count": 89,
   "id": "f27d233a",
   "metadata": {},
   "outputs": [
    {
     "data": {
      "text/html": [
       "<div>\n",
       "<style scoped>\n",
       "    .dataframe tbody tr th:only-of-type {\n",
       "        vertical-align: middle;\n",
       "    }\n",
       "\n",
       "    .dataframe tbody tr th {\n",
       "        vertical-align: top;\n",
       "    }\n",
       "\n",
       "    .dataframe thead th {\n",
       "        text-align: right;\n",
       "    }\n",
       "</style>\n",
       "<table border=\"1\" class=\"dataframe\">\n",
       "  <thead>\n",
       "    <tr style=\"text-align: right;\">\n",
       "      <th></th>\n",
       "      <th>FAQs_test</th>\n",
       "    </tr>\n",
       "  </thead>\n",
       "  <tbody>\n",
       "    <tr>\n",
       "      <th>0</th>\n",
       "      <td>stainless good choic</td>\n",
       "    </tr>\n",
       "  </tbody>\n",
       "</table>\n",
       "</div>"
      ],
      "text/plain": [
       "              FAQs_test\n",
       "0  stainless good choic"
      ]
     },
     "execution_count": 89,
     "metadata": {},
     "output_type": "execute_result"
    }
   ],
   "source": [
    "df1 = pd.DataFrame({\"FAQs_test\":FAQs_test})\n",
    "df1"
   ]
  },
  {
   "cell_type": "code",
   "execution_count": 90,
   "id": "4adff59b",
   "metadata": {},
   "outputs": [
    {
     "data": {
      "text/html": [
       "<div>\n",
       "<style scoped>\n",
       "    .dataframe tbody tr th:only-of-type {\n",
       "        vertical-align: middle;\n",
       "    }\n",
       "\n",
       "    .dataframe tbody tr th {\n",
       "        vertical-align: top;\n",
       "    }\n",
       "\n",
       "    .dataframe thead th {\n",
       "        text-align: right;\n",
       "    }\n",
       "</style>\n",
       "<table border=\"1\" class=\"dataframe\">\n",
       "  <thead>\n",
       "    <tr style=\"text-align: right;\">\n",
       "      <th></th>\n",
       "      <th>FAQs_Answer</th>\n",
       "    </tr>\n",
       "  </thead>\n",
       "  <tbody>\n",
       "    <tr>\n",
       "      <th>0</th>\n",
       "      <td>It is 18/10. I will also add that it is solidl...</td>\n",
       "    </tr>\n",
       "  </tbody>\n",
       "</table>\n",
       "</div>"
      ],
      "text/plain": [
       "                                         FAQs_Answer\n",
       "0  It is 18/10. I will also add that it is solidl..."
      ]
     },
     "execution_count": 90,
     "metadata": {},
     "output_type": "execute_result"
    }
   ],
   "source": [
    "df2 = pd.DataFrame(df2, columns=[\"FAQs_Answer\"])\n",
    "df2"
   ]
  },
  {
   "cell_type": "code",
   "execution_count": 91,
   "id": "2535f938",
   "metadata": {},
   "outputs": [],
   "source": [
    "result = pd.concat([df1, df2], axis=1, join='inner')"
   ]
  },
  {
   "cell_type": "code",
   "execution_count": 92,
   "id": "70bc987a",
   "metadata": {},
   "outputs": [
    {
     "data": {
      "text/plain": [
       "\"It is 18/10. I will also add that it is solidly made and not a cheap looking item at all. The mesh is ultra fine and well secured with a neat stainless rim as you can see in the picture. Again, this is a very fine mesh so perfect for skimming soups, etc. which is how I use it. I keep my utensils hanging from stainless bars and this is attractive enough for me to hang there as well. So far, I'm very pleased with it.\""
      ]
     },
     "metadata": {},
     "output_type": "display_data"
    }
   ],
   "source": [
    "display(result.FAQs_Answer[0])"
   ]
  },
  {
   "cell_type": "code",
   "execution_count": 93,
   "id": "b22f243a",
   "metadata": {},
   "outputs": [
    {
     "data": {
      "text/html": [
       "<div>\n",
       "<style scoped>\n",
       "    .dataframe tbody tr th:only-of-type {\n",
       "        vertical-align: middle;\n",
       "    }\n",
       "\n",
       "    .dataframe tbody tr th {\n",
       "        vertical-align: top;\n",
       "    }\n",
       "\n",
       "    .dataframe thead th {\n",
       "        text-align: right;\n",
       "    }\n",
       "</style>\n",
       "<table border=\"1\" class=\"dataframe\">\n",
       "  <thead>\n",
       "    <tr style=\"text-align: right;\">\n",
       "      <th></th>\n",
       "      <th>question</th>\n",
       "      <th>answer</th>\n",
       "    </tr>\n",
       "  </thead>\n",
       "  <tbody>\n",
       "    <tr>\n",
       "      <th>0</th>\n",
       "      <td>crush ice</td>\n",
       "      <td>yes :) you can get nice slushies for sure ;)</td>\n",
       "    </tr>\n",
       "    <tr>\n",
       "      <th>1</th>\n",
       "      <td>fan feet word stay upright obvious pictur</td>\n",
       "      <td>The base is broad enough that it can stay upri...</td>\n",
       "    </tr>\n",
       "    <tr>\n",
       "      <th>2</th>\n",
       "      <td>use cold water make espresso thank</td>\n",
       "      <td>Yes. It won't be as robust or bitey as when us...</td>\n",
       "    </tr>\n",
       "    <tr>\n",
       "      <th>3</th>\n",
       "      <td>work air purifi well recent shown rainbow work...</td>\n",
       "      <td>Let me say this: When I use my rainbow to vacu...</td>\n",
       "    </tr>\n",
       "    <tr>\n",
       "      <th>4</th>\n",
       "      <td>hand held air deflat pump buy bag</td>\n",
       "      <td>I have a Quick Fill Electric Pump that I broug...</td>\n",
       "    </tr>\n",
       "  </tbody>\n",
       "</table>\n",
       "</div>"
      ],
      "text/plain": [
       "                                            question  \\\n",
       "0                                          crush ice   \n",
       "1          fan feet word stay upright obvious pictur   \n",
       "2                 use cold water make espresso thank   \n",
       "3  work air purifi well recent shown rainbow work...   \n",
       "4                  hand held air deflat pump buy bag   \n",
       "\n",
       "                                              answer  \n",
       "0       yes :) you can get nice slushies for sure ;)  \n",
       "1  The base is broad enough that it can stay upri...  \n",
       "2  Yes. It won't be as robust or bitey as when us...  \n",
       "3  Let me say this: When I use my rainbow to vacu...  \n",
       "4  I have a Quick Fill Electric Pump that I broug...  "
      ]
     },
     "execution_count": 93,
     "metadata": {},
     "output_type": "execute_result"
    }
   ],
   "source": [
    "data.head()"
   ]
  },
  {
   "cell_type": "code",
   "execution_count": null,
   "id": "5e07a6fb",
   "metadata": {},
   "outputs": [],
   "source": []
  },
  {
   "cell_type": "code",
   "execution_count": null,
   "id": "78eb9ab8",
   "metadata": {},
   "outputs": [],
   "source": []
  },
  {
   "cell_type": "code",
   "execution_count": null,
   "id": "afe7ac55",
   "metadata": {},
   "outputs": [],
   "source": []
  }
 ],
 "metadata": {
  "kernelspec": {
   "display_name": "Python 3 (ipykernel)",
   "language": "python",
   "name": "python3"
  },
  "language_info": {
   "codemirror_mode": {
    "name": "ipython",
    "version": 3
   },
   "file_extension": ".py",
   "mimetype": "text/x-python",
   "name": "python",
   "nbconvert_exporter": "python",
   "pygments_lexer": "ipython3",
   "version": "3.8.16"
  }
 },
 "nbformat": 4,
 "nbformat_minor": 5
}
